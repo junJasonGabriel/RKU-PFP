{
 "cells": [
  {
   "cell_type": "markdown",
   "metadata": {},
   "source": [
    "# Error propagation\n",
    "\n",
    "## Tasks\n",
    "\n",
    "a) Propagate uncertainties for the following expressions using [SymPy](https://www.sympy.org) following the examples for [uncorrelated variables](https://nbviewer.jupyter.org/urls/www.physi.uni-heidelberg.de/Einrichtungen/FP/Datenanalyse/FP_Gaussian_error_propagation.ipynb?flush_cache=false) and [correlated variables](https://nbviewer.jupyter.org/urls/www.physi.uni-heidelberg.de/Einrichtungen/FP/Datenanalyse/FP_Gaussian_error_propagation_corr.ipynb?flush_cache=false) from the FP web page.\n",
    "\n",
    "i) Find expressions for the absolute uncertainty $\\sigma_z$ for $z = x + y$ and $z = x - y$ \n",
    "\n",
    "ii) Find expressions for the relative uncertainty $\\sigma_z / z$ for $z = x \\cdot y, \\; z = x / y$ and $z = x^n y^n$\n",
    "\n",
    "iii) The acceleration of gravity with a simple pendulum is given by the following formula:\n",
    "$$g = 4  \\pi^2 \\frac{L}{T^2}$$\n",
    "The relevant variables are the length $L$ of the pendulum and the period $T$ with the corresponding errors $\\sigma_L$ and $\\sigma_T$.\n",
    "\n",
    "b) The radius $r$ and the height $h$ of a cylinder have been measured to $r = 2$ cm and $h = 3$ cm. The uncertainty for both measurements is $\\sigma = 0.05$ cm. Determine the volume of the cylinder and its uncertainty assuming (i) that both measurements are uncorrelated and (ii) that both measurements are fully correlated.\n",
    "\n",
    "c) The scattering angle and the radial distance of a certain particle can be determined from a position measurement $(x,y)$ \n",
    "$$r = \\sqrt{x^2 + y^2}, \\quad \\theta = \\mathrm{atan2}(y, x)$$\n",
    "You find more on the [atan2](https://en.wikipedia.org/wiki/Atan2) function on wikipedia. The position ($x$,$y$) is measured with the corresponding uncertainties $\\sigma_x$ and $\\sigma_y$. Write a python function that returns the covariance matrix $U$ of $r$ and $\\theta$ for a given covariance matrix $V$ of $x$ and $y$. Determine $U$ under the assumption that $x$ and $y$ are uncorrelated. Hint: The formulas you need can be found in the script.\n"
   ]
  },
  {
   "cell_type": "markdown",
   "metadata": {},
   "source": [
    "### Solution"
   ]
  },
  {
   "cell_type": "code",
   "execution_count": 16,
   "metadata": {
    "jupyter": {
     "source_hidden": true
    }
   },
   "outputs": [
    {
     "data": {
      "text/latex": [
       "For generally correlated error propagation, a function \"eprop_cor\" is defined.\n",
       "It takes the one-dimensional function `f`, the parameters `data`, the covariance matrix `C` and returns the\n",
       "propagated error: $$\\sigma_f = \\sqrt{\\sum_{i, j=1}^{n} \\frac{\\delta f}{\\delta x_i} \n",
       "\\frac{\\delta f}{\\delta x_j} \\cdot C_{ij}}$$ The helper-function `sympy_equation` facilitates the \n",
       "display of equations hereafter."
      ],
      "text/plain": [
       "<IPython.core.display.Latex object>"
      ]
     },
     "metadata": {},
     "output_type": "display_data"
    }
   ],
   "source": [
    "import sympy as sp\n",
    "import numpy as np\n",
    "from IPython.display import display, Latex\n",
    "\n",
    "def eprop_cor(f, data, covariance):\n",
    "    S = sp.sympify(\"0\")\n",
    "    for i in range(len(data)):\n",
    "        for j in range(len(data)):\n",
    "            S += sp.diff(f, data[i]) * sp.diff(f, data[j]) * covariance[i][j]\n",
    "    return sp.sqrt(S).simplify()\n",
    "\n",
    "def sympy_equation(variable_latex, sympy_formula):\n",
    "    display(Latex(f\"${variable_latex} = {sp.latex(sympy_formula)}$\"))\n",
    "    \n",
    "def display_eprop(var, var_eq, err, err_eq):\n",
    "    rhos = [ 1, 0,-1]\n",
    "    string = f\"${var} = {sp.latex(var_eq)} \\Rightarrow {err} = {sp.latex(err_eq)}\"+r\"=\\left\\{\\begin{array}{ll}\"\n",
    "    for i in range(len(rhos)):\n",
    "        string += f\"{sp.latex(err_eq.subs([(rho, rhos[i])]).factor())}\"+r\", & \\rho=\"+f\"{rhos[i]}\"\n",
    "        if i+1 < len(rhos):\n",
    "            string += r\"\\\\ \"\n",
    "        else:\n",
    "            string += r\"\\end{array}\\right.$\"\n",
    "    display(Latex(string))\n",
    "    \n",
    "display(Latex(r\"\"\"For generally correlated error propagation, a function \"eprop_cor\" is defined.\n",
    "It takes the one-dimensional function `f`, the parameters `data`, the covariance matrix `C` and returns the\n",
    "propagated error: $$\\sigma_f = \\sqrt{\\sum_{i, j=1}^{n} \\frac{\\delta f}{\\delta x_i} \n",
    "\\frac{\\delta f}{\\delta x_j} \\cdot C_{ij}}$$ The helper-function `sympy_equation` facilitates the \n",
    "display of equations hereafter.\"\"\"))"
   ]
  },
  {
   "cell_type": "code",
   "execution_count": 79,
   "metadata": {
    "jupyter": {
     "source_hidden": true
    }
   },
   "outputs": [
    {
     "data": {
      "text/latex": [
       "a)"
      ],
      "text/plain": [
       "<IPython.core.display.Latex object>"
      ]
     },
     "metadata": {},
     "output_type": "display_data"
    },
    {
     "data": {
      "text/latex": [
       "i) To calculate the propagated uncertainty of `z` for independent `x` and `y`,\n",
       "the equation `z`, the measurements `x` and `y`, and the respective errors `\\sigma_x` and `\\sigma_y`\n",
       " are passed to the function eprop_cor, yielding the following equations:"
      ],
      "text/plain": [
       "<IPython.core.display.Latex object>"
      ]
     },
     "metadata": {},
     "output_type": "display_data"
    },
    {
     "data": {
      "text/latex": [
       "$z = x + y \\Rightarrow \\sigma_z = \\sqrt{2 \\rho \\sigma_{x} \\sigma_{y} + \\sigma_{x}^{2} + \\sigma_{y}^{2}}=\\left\\{\\begin{array}{ll}\\sigma_{x} + \\sigma_{y}, & \\rho=1\\\\ \\sqrt{\\sigma_{x}^{2} + \\sigma_{y}^{2}}, & \\rho=0\\\\ \\left|{\\sigma_{x} - \\sigma_{y}}\\right|, & \\rho=-1\\end{array}\\right.$"
      ],
      "text/plain": [
       "<IPython.core.display.Latex object>"
      ]
     },
     "metadata": {},
     "output_type": "display_data"
    },
    {
     "data": {
      "text/latex": [
       "$z = x - y \\Rightarrow \\sigma_z = \\sqrt{- 2 \\rho \\sigma_{x} \\sigma_{y} + \\sigma_{x}^{2} + \\sigma_{y}^{2}}=\\left\\{\\begin{array}{ll}\\left|{\\sigma_{x} - \\sigma_{y}}\\right|, & \\rho=1\\\\ \\sqrt{\\sigma_{x}^{2} + \\sigma_{y}^{2}}, & \\rho=0\\\\ \\sigma_{x} + \\sigma_{y}, & \\rho=-1\\end{array}\\right.$"
      ],
      "text/plain": [
       "<IPython.core.display.Latex object>"
      ]
     },
     "metadata": {},
     "output_type": "display_data"
    },
    {
     "data": {
      "text/latex": [
       "ii)"
      ],
      "text/plain": [
       "<IPython.core.display.Latex object>"
      ]
     },
     "metadata": {},
     "output_type": "display_data"
    },
    {
     "data": {
      "text/latex": [
       "$z = x y \\Rightarrow \\frac{\\sigma_z}{z} = \\frac{\\sqrt{2 \\rho \\sigma_{x} \\sigma_{y} x y + \\sigma_{x}^{2} y^{2} + \\sigma_{y}^{2} x^{2}}}{x y}=\\left\\{\\begin{array}{ll}\\frac{\\left|{\\sigma_{x} y + \\sigma_{y} x}\\right|}{x y}, & \\rho=1\\\\ \\frac{\\sqrt{\\sigma_{x}^{2} y^{2} + \\sigma_{y}^{2} x^{2}}}{x y}, & \\rho=0\\\\ \\frac{\\left|{\\sigma_{x} y - \\sigma_{y} x}\\right|}{x y}, & \\rho=-1\\end{array}\\right.$"
      ],
      "text/plain": [
       "<IPython.core.display.Latex object>"
      ]
     },
     "metadata": {},
     "output_type": "display_data"
    },
    {
     "data": {
      "text/latex": [
       "$z = \\frac{x}{y} \\Rightarrow \\frac{\\sigma_z}{z} = \\frac{y \\sqrt{\\frac{- 2 \\rho \\sigma_{x} \\sigma_{y} x y + \\sigma_{x}^{2} y^{2} + \\sigma_{y}^{2} x^{2}}{y^{4}}}}{x}=\\left\\{\\begin{array}{ll}\\frac{y \\sqrt{\\frac{\\left(- \\sigma_{x} + \\frac{\\sigma_{y} x}{y}\\right)^{2}}{y^{2}}}}{x}, & \\rho=1\\\\ \\frac{\\sqrt{\\sigma_{x}^{2} y^{2} + \\sigma_{y}^{2} x^{2}}}{x y}, & \\rho=0\\\\ \\frac{y \\sqrt{\\frac{\\left(\\sigma_{x} + \\frac{\\sigma_{y} x}{y}\\right)^{2}}{y^{2}}}}{x}, & \\rho=-1\\end{array}\\right.$"
      ],
      "text/plain": [
       "<IPython.core.display.Latex object>"
      ]
     },
     "metadata": {},
     "output_type": "display_data"
    },
    {
     "data": {
      "text/latex": [
       "For the product `z = x^ny^n` we introduce the new variable `n`, \n",
       "yielding the following error propagation:"
      ],
      "text/plain": [
       "<IPython.core.display.Latex object>"
      ]
     },
     "metadata": {},
     "output_type": "display_data"
    },
    {
     "data": {
      "text/latex": [
       "$z = x^{n} y^{n} \\Rightarrow \\frac{\\sigma_z}{z} = n x^{- n} y^{- n} \\sqrt{x^{2 n - 2} y^{2 n - 2} \\left(2 \\rho \\sigma_{x} \\sigma_{y} x y + \\sigma_{x}^{2} y^{2} + \\sigma_{y}^{2} x^{2}\\right)}=\\left\\{\\begin{array}{ll}n x^{- n} y^{- n} \\sqrt{x^{2 n} y^{2 n} \\left(\\frac{\\sigma_{x}}{x} + \\frac{\\sigma_{y}}{y}\\right)^{2}}, & \\rho=1\\\\ n x^{- n} y^{- n} \\sqrt{\\frac{x^{2 n} y^{2 n}}{x^{2} y^{2}}} \\sqrt{\\sigma_{x}^{2} y^{2} + \\sigma_{y}^{2} x^{2}}, & \\rho=0\\\\ n x^{- n} y^{- n} \\sqrt{x^{2 n} y^{2 n} \\left(\\frac{\\sigma_{x}}{x} - \\frac{\\sigma_{y}}{y}\\right)^{2}}, & \\rho=-1\\end{array}\\right.$"
      ],
      "text/plain": [
       "<IPython.core.display.Latex object>"
      ]
     },
     "metadata": {},
     "output_type": "display_data"
    },
    {
     "data": {
      "text/latex": [
       "For `n=1`, this yields the formula for simple multiplication as seen above:"
      ],
      "text/plain": [
       "<IPython.core.display.Latex object>"
      ]
     },
     "metadata": {},
     "output_type": "display_data"
    },
    {
     "data": {
      "text/latex": [
       "$z = x y \\Rightarrow \\frac{\\sigma_z}{z} = \\frac{\\sqrt{2 \\rho \\sigma_{x} \\sigma_{y} x y + \\sigma_{x}^{2} y^{2} + \\sigma_{y}^{2} x^{2}}}{x y}=\\left\\{\\begin{array}{ll}\\frac{\\left|{\\sigma_{x} y + \\sigma_{y} x}\\right|}{x y}, & \\rho=1\\\\ \\frac{\\sqrt{\\sigma_{x}^{2} y^{2} + \\sigma_{y}^{2} x^{2}}}{x y}, & \\rho=0\\\\ \\frac{\\left|{\\sigma_{x} y - \\sigma_{y} x}\\right|}{x y}, & \\rho=-1\\end{array}\\right.$"
      ],
      "text/plain": [
       "<IPython.core.display.Latex object>"
      ]
     },
     "metadata": {},
     "output_type": "display_data"
    },
    {
     "data": {
      "text/latex": [
       "iii)"
      ],
      "text/plain": [
       "<IPython.core.display.Latex object>"
      ]
     },
     "metadata": {},
     "output_type": "display_data"
    },
    {
     "data": {
      "text/latex": [
       "For the gravitational acceleration, it holds that"
      ],
      "text/plain": [
       "<IPython.core.display.Latex object>"
      ]
     },
     "metadata": {},
     "output_type": "display_data"
    },
    {
     "data": {
      "text/latex": [
       "$g = \\frac{4 \\pi^{2} L}{T^{2}} \\Rightarrow \\sigma_g = \\frac{4 \\pi^{2} \\sqrt{4 L^{2} \\sigma_{T}^{2} - 4 L T \\rho \\sigma_{L} \\sigma_{T} + T^{2} \\sigma_{L}^{2}}}{T^{3}}=\\left\\{\\begin{array}{ll}\\frac{4 \\pi^{2} \\left|{2 L \\sigma_{T} - T \\sigma_{L}}\\right|}{T^{3}}, & \\rho=1\\\\ \\frac{4 \\pi^{2} \\sqrt{4 L^{2} \\sigma_{T}^{2} + T^{2} \\sigma_{L}^{2}}}{T^{3}}, & \\rho=0\\\\ \\frac{4 \\pi^{2} \\left(2 L \\sigma_{T} + T \\sigma_{L}\\right)}{T^{3}}, & \\rho=-1\\end{array}\\right.$"
      ],
      "text/plain": [
       "<IPython.core.display.Latex object>"
      ]
     },
     "metadata": {},
     "output_type": "display_data"
    },
    {
     "data": {
      "text/latex": [
       "and"
      ],
      "text/plain": [
       "<IPython.core.display.Latex object>"
      ]
     },
     "metadata": {},
     "output_type": "display_data"
    },
    {
     "data": {
      "text/latex": [
       "$g = \\frac{4 \\pi^{2} L}{T^{2}} \\Rightarrow \\frac{\\sigma_g}{g} = \\frac{\\sqrt{4 L^{2} \\sigma_{T}^{2} - 4 L T \\rho \\sigma_{L} \\sigma_{T} + T^{2} \\sigma_{L}^{2}}}{L T}=\\left\\{\\begin{array}{ll}\\frac{\\left|{2 L \\sigma_{T} - T \\sigma_{L}}\\right|}{L T}, & \\rho=1\\\\ \\frac{\\sqrt{4 L^{2} \\sigma_{T}^{2} + T^{2} \\sigma_{L}^{2}}}{L T}, & \\rho=0\\\\ \\frac{2 L \\sigma_{T} + T \\sigma_{L}}{L T}, & \\rho=-1\\end{array}\\right.$"
      ],
      "text/plain": [
       "<IPython.core.display.Latex object>"
      ]
     },
     "metadata": {},
     "output_type": "display_data"
    }
   ],
   "source": [
    "x, y, rho = sp.symbols(\"x, y, rho\", real=True)\n",
    "sigma_x, sigma_y = sp.symbols(\"sigma_x, sigma_y\", real=True, positive=True)\n",
    "covariance_matrix_LT = [[sigma_x**2, rho * sigma_x * sigma_y], [rho * sigma_x * sigma_y, sigma_y**2]]\n",
    "\n",
    "display(Latex(\"a)\"))\n",
    "display(Latex(r\"\"\"i) To calculate the propagated uncertainty of `z` for independent `x` and `y`,\n",
    "the equation `z`, the measurements `x` and `y`, and the respective errors `\\sigma_x` and `\\sigma_y`\n",
    " are passed to the function eprop_cor, yielding the following equations:\"\"\"))\n",
    "z = x + y\n",
    "sigma_z = eprop_cor(z, [x, y], covariance_matrix_LT)\n",
    "display_eprop(\"z\", z, \"\\sigma_z\", sigma_z)\n",
    "z = x - y\n",
    "sigma_z = eprop_cor(z, [x, y], covariance_matrix_LT)\n",
    "display_eprop(\"z\", z, \"\\sigma_z\", sigma_z)\n",
    "\n",
    "\n",
    "display(Latex(\"ii)\"))\n",
    "z = x * y\n",
    "sigma_z = eprop_cor(z, [x, y], covariance_matrix_LT)\n",
    "display_eprop(\"z\", z, r\"\\frac{\\sigma_z}{z}\", sigma_z / z)\n",
    "z = x / y\n",
    "sigma_z = eprop_cor(z, [x, y], covariance_matrix_LT)\n",
    "display_eprop(\"z\", z, r\"\\frac{\\sigma_z}{z}\", sigma_z / z)\n",
    "\n",
    "display(Latex(r\"\"\"For the product `z = x^ny^n` we introduce the new variable `n`, \n",
    "yielding the following error propagation:\"\"\"))\n",
    "n, sigma_n = sp.symbols(\"n, sigma_n\", real=True, positive=True)\n",
    "z = x**n * y**n\n",
    "sigma_z = eprop_cor(z, [x, y], covariance_matrix_LT)\n",
    "display_eprop(\"z\", z, r\"\\frac{\\sigma_z}{z}\", sigma_z / z)\n",
    "display(Latex(r\"For `n=1`, this yields the formula for simple multiplication as seen above:\"))\n",
    "display_eprop(\"z\", z.subs([(n, 1)]), r\"\\frac{\\sigma_z}{z}\", (sigma_z / z).subs([(n, 1)]))\n",
    "\n",
    "\n",
    "display(Latex(\"iii)\"))\n",
    "L, T, sigma_L, sigma_T = sp.symbols(\"L, T, sigma_L, sigma_T\", real=True, positive=True)\n",
    "covariance_matrix_LT = [[sigma_L**2, rho * sigma_L * sigma_T], [rho * sigma_L * sigma_T, sigma_T**2]]\n",
    "rho = sp.symbols(\"rho\", real=True)\n",
    "g = 4 * sp.pi**2 * L / T**2\n",
    "sigma_g = eprop_cor(g, [L, T], covariance_matrix_LT)\n",
    "display(Latex(\"For the gravitational acceleration, it holds that\"))\n",
    "display_eprop(\"g\", g, \"\\sigma_g\", sigma_g)\n",
    "display(Latex(\"and\"))\n",
    "display_eprop(\"g\", g, r\"\\frac{\\sigma_g}{g}\", sigma_g / g)"
   ]
  },
  {
   "cell_type": "code",
   "execution_count": 8,
   "metadata": {
    "jupyter": {
     "source_hidden": true
    }
   },
   "outputs": [
    {
     "data": {
      "text/latex": [
       "b)"
      ],
      "text/plain": [
       "<IPython.core.display.Latex object>"
      ]
     },
     "metadata": {},
     "output_type": "display_data"
    },
    {
     "data": {
      "text/latex": [
       "The volume `V` of a cylinder with radius `r \\pm \\sigma_r` and height `h \\pm \\sigma_h` yields, in general, the following error is thus calculated:"
      ],
      "text/plain": [
       "<IPython.core.display.Latex object>"
      ]
     },
     "metadata": {},
     "output_type": "display_data"
    },
    {
     "data": {
      "text/latex": [
       "$V = \\pi h r^{2} \\Rightarrow \\sigma_V = \\pi r \\sqrt{4 h^{2} \\sigma_{r}^{2} + 4 h r \\rho \\sigma_{h} \\sigma_{r} + r^{2} \\sigma_{h}^{2}}=\\left\\{\\begin{array}{ll}\\pi r \\left(2 h \\sigma_{r} + r \\sigma_{h}\\right), & \\rho=1\\\\ \\pi r \\sqrt{4 h^{2} \\sigma_{r}^{2} + r^{2} \\sigma_{h}^{2}}, & \\rho=0\\\\ \\pi r \\left|{2 h \\sigma_{r} - r \\sigma_{h}}\\right|, & \\rho=-1\\end{array}\\right.$"
      ],
      "text/plain": [
       "<IPython.core.display.Latex object>"
      ]
     },
     "metadata": {},
     "output_type": "display_data"
    },
    {
     "data": {
      "text/latex": [
       "For correlation `\\rho = 1`, the result is `V = (37.7 \\pm 2.5) \\ cm^3.`"
      ],
      "text/plain": [
       "<IPython.core.display.Latex object>"
      ]
     },
     "metadata": {},
     "output_type": "display_data"
    },
    {
     "data": {
      "text/latex": [
       "For correlation `\\rho = 0`, the result is `V = (37.7 \\pm 2.0) \\ cm^3.`"
      ],
      "text/plain": [
       "<IPython.core.display.Latex object>"
      ]
     },
     "metadata": {},
     "output_type": "display_data"
    },
    {
     "data": {
      "text/latex": [
       "For correlation `\\rho = -1`, the result is `V = (37.7 \\pm 1.3) \\ cm^3.`"
      ],
      "text/plain": [
       "<IPython.core.display.Latex object>"
      ]
     },
     "metadata": {},
     "output_type": "display_data"
    }
   ],
   "source": [
    "r, sigma_r, h, sigma_h = sp.symbols(\"r, sigma_r, h, sigma_h\", real=True, positive=True)\n",
    "rho = sp.symbols(\"rho\", real=True)\n",
    "r_val, sigma_r_val = 2, 5e-2\n",
    "h_val, sigma_h_val = 3, 5e-2\n",
    "\n",
    "V = sp.pi * r**2 * h\n",
    "V_val = V.subs([(r, r_val), (h, h_val)]).evalf()\n",
    "covariance_matrix = [[sigma_r**2, rho * sigma_r * sigma_h], [rho * sigma_h * sigma_r, sigma_h**2]]\n",
    "sigma_V = eprop_cor(V, [r, h], covariance_matrix)\n",
    "\n",
    "display(Latex(\"b)\"))\n",
    "display(Latex(r\"\"\"The volume `V` of a cylinder with radius `r \\pm \\sigma_r` and height `h \\pm \\sigma_h` yields, in general, the following error is thus calculated:\"\"\"))\n",
    "display_eprop(\"V\", V, r\"\\sigma_V\", sigma_V)\n",
    "for rho_val in [1, 0, -1]:\n",
    "    sigma_V_val = sigma_V.subs([(r, r_val), (sigma_r, sigma_r_val), (h, h_val), (sigma_h, sigma_h_val), (rho, rho_val)]).evalf()\n",
    "    display(Latex(r\"For correlation `\\rho = \"+f\"{rho_val}\"+f\"`, the result is `V = ({V_val:.1f} \\pm {sigma_V_val:.1f}) \" + \"\\ cm^3.`\"))"
   ]
  },
  {
   "cell_type": "code",
   "execution_count": 9,
   "metadata": {
    "jupyter": {
     "source_hidden": true
    }
   },
   "outputs": [
    {
     "data": {
      "text/latex": [
       "c)"
      ],
      "text/plain": [
       "<IPython.core.display.Latex object>"
      ]
     },
     "metadata": {},
     "output_type": "display_data"
    },
    {
     "data": {
      "text/latex": [
       "For multidimensional error propagation we define the function eprop_cor2d. Here `\\vec{y}(\\vec{x})` depends on the parameters `\\vec{x} = (x_1, x_2, ..., x_n)`."
      ],
      "text/plain": [
       "<IPython.core.display.Latex object>"
      ]
     },
     "metadata": {},
     "output_type": "display_data"
    },
    {
     "data": {
      "text/latex": [
       "To calculate the new covariance matrix `U` of `r` and `\\theta` we first write:"
      ],
      "text/plain": [
       "<IPython.core.display.Latex object>"
      ]
     },
     "metadata": {},
     "output_type": "display_data"
    },
    {
     "data": {
      "text/latex": [
       "$r = \\sqrt{x^{2} + y^{2}}$"
      ],
      "text/plain": [
       "<IPython.core.display.Latex object>"
      ]
     },
     "metadata": {},
     "output_type": "display_data"
    },
    {
     "data": {
      "text/latex": [
       "$\\theta = \\operatorname{atan_{2}}{\\left(y,x \\right)}$"
      ],
      "text/plain": [
       "<IPython.core.display.Latex object>"
      ]
     },
     "metadata": {},
     "output_type": "display_data"
    },
    {
     "data": {
      "text/latex": [
       "and form the covariance matrix of `x` and `y`:"
      ],
      "text/plain": [
       "<IPython.core.display.Latex object>"
      ]
     },
     "metadata": {},
     "output_type": "display_data"
    },
    {
     "data": {
      "text/latex": [
       "$V = \\left[\\begin{matrix}\\sigma_{x}^{2} & \\rho \\sigma_{x} \\sigma_{y}\\\\\\rho \\sigma_{x} \\sigma_{y} & \\sigma_{y}^{2}\\end{matrix}\\right]$"
      ],
      "text/plain": [
       "<IPython.core.display.Latex object>"
      ]
     },
     "metadata": {},
     "output_type": "display_data"
    },
    {
     "data": {
      "text/latex": [
       "The new covariance matrix `U` is now calculated analytically and used for the correlation `\\rho = 0`:"
      ],
      "text/plain": [
       "<IPython.core.display.Latex object>"
      ]
     },
     "metadata": {},
     "output_type": "display_data"
    },
    {
     "data": {
      "text/latex": [
       "$U = \\left[\\begin{matrix}\\frac{2 \\rho \\sigma_{x} \\sigma_{y} x y + \\sigma_{x}^{2} x^{2} + \\sigma_{y}^{2} y^{2}}{x^{2} + y^{2}} & \\frac{\\rho \\sigma_{x} \\sigma_{y} x^{2} - \\rho \\sigma_{x} \\sigma_{y} y^{2} - \\sigma_{x}^{2} x y + \\sigma_{y}^{2} x y}{\\left(x^{2} + y^{2}\\right)^{\\frac{3}{2}}}\\\\\\frac{\\rho \\sigma_{x} \\sigma_{y} x^{2} - \\rho \\sigma_{x} \\sigma_{y} y^{2} - \\sigma_{x}^{2} x y + \\sigma_{y}^{2} x y}{\\left(x^{2} + y^{2}\\right)^{\\frac{3}{2}}} & \\frac{- 2 \\rho \\sigma_{x} \\sigma_{y} x y + \\sigma_{x}^{2} y^{2} + \\sigma_{y}^{2} x^{2}}{\\left(x^{2} + y^{2}\\right)^{2}}\\end{matrix}\\right] = \\left[\\begin{matrix}\\frac{\\sigma_{x}^{2} x^{2} + \\sigma_{y}^{2} y^{2}}{x^{2} + y^{2}} & \\frac{x y \\left(- \\sigma_{x}^{2} + \\sigma_{y}^{2}\\right)}{\\left(x^{2} + y^{2}\\right)^{\\frac{3}{2}}}\\\\\\frac{x y \\left(- \\sigma_{x}^{2} + \\sigma_{y}^{2}\\right)}{\\left(x^{2} + y^{2}\\right)^{\\frac{3}{2}}} & \\frac{\\sigma_{x}^{2} y^{2} + \\sigma_{y}^{2} x^{2}}{\\left(x^{2} + y^{2}\\right)^{2}}\\end{matrix}\\right]$"
      ],
      "text/plain": [
       "<IPython.core.display.Latex object>"
      ]
     },
     "metadata": {},
     "output_type": "display_data"
    }
   ],
   "source": [
    "def eprop_cor2d(y, x, covariance_matrix):\n",
    "    n, m = len(x), len(y)\n",
    "    E = [[sp.sympify(\"0\") for i in range(m)] for i in range(m)]\n",
    "    for k in range(m):\n",
    "        for l in range(m):\n",
    "            for i in range(n):\n",
    "                for j in range(n):\n",
    "                    E[k][l] += sp.diff(y[k], x[i]) * sp.diff(y[l], x[j]) * covariance_matrix[i][j]\n",
    "            E[k][l] = E[k][l].simplify()\n",
    "    return E\n",
    "\n",
    "x, sigma_x, y, sigma_y = sp.symbols(\"x, sigma_x, y, sigma_y\", real=True)\n",
    "r, theta = sp.sqrt(x**2 + y**2), sp.atan2(y, x)\n",
    "covariance_matrix_x_y = [[sigma_x**2, rho * sigma_x * sigma_y], [rho * sigma_y * sigma_x, sigma_y**2]]\n",
    "covariance_matrix_r_theta = eprop_cor2d((r, theta), (x, y), covariance_matrix_x_y)\n",
    "covariance_matrix_r_theta_ = sp.Matrix(covariance_matrix_r_theta).subs([(rho, 0)])\n",
    "\n",
    "display(Latex(\"c)\"))\n",
    "display(Latex(r\"For multidimensional error propagation we define the function eprop_cor2d. Here `\\vec{y}(\\vec{x})` depends on the parameters `\\vec{x} = (x_1, x_2, ..., x_n)`.\"))\n",
    "display(Latex(r\"To calculate the new covariance matrix `U` of `r` and `\\theta` we first write:\"))\n",
    "sympy_equation(\"r\", r)\n",
    "sympy_equation(r\"\\theta\", theta)\n",
    "display(Latex(r\"and form the covariance matrix of `x` and `y`:\"))\n",
    "display(Latex(f\"$V = {sp.latex(sp.Matrix(covariance_matrix_x_y))}$\"))\n",
    "display(Latex(r\"The new covariance matrix `U` is now calculated analytically and used for the correlation `\\rho = 0`:\"))\n",
    "display(Latex(f\"$U = {sp.latex(sp.Matrix(covariance_matrix_r_theta))} = {sp.latex(sp.simplify(covariance_matrix_r_theta_))}$\"))"
   ]
  }
 ],
 "metadata": {
  "interpreter": {
   "hash": "ce0a1be092147c09833e7868385b9da738912d600a71e21e78a3ecad074dc518"
  },
  "kernelspec": {
   "display_name": "Python 3.9.7 64-bit",
   "name": "python3"
  },
  "language_info": {
   "codemirror_mode": {
    "name": "ipython",
    "version": 3
   },
   "file_extension": ".py",
   "mimetype": "text/x-python",
   "name": "python",
   "nbconvert_exporter": "python",
   "pygments_lexer": "ipython3",
   "version": "3.9.7"
  }
 },
 "nbformat": 4,
 "nbformat_minor": 4
}
