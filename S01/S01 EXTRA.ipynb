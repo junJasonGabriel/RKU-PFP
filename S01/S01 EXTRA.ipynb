{
 "cells": [
  {
   "cell_type": "code",
   "execution_count": 92,
   "metadata": {
    "jupyter": {
     "source_hidden": true
    }
   },
   "outputs": [
    {
     "data": {
      "text/latex": [
       "$\\theta_{0} \\left(- \\frac{1}{s_{7}^{2}} - \\frac{1}{s_{6}^{2}} - \\frac{1}{s_{5}^{2}} - \\frac{1}{s_{4}^{2}} - \\frac{1}{s_{3}^{2}} - \\frac{1}{s_{2}^{2}} - \\frac{1}{s_{1}^{2}}\\right) + \\theta_{1} \\left(- \\frac{x_{7}}{s_{7}^{2}} - \\frac{x_{6}}{s_{6}^{2}} - \\frac{x_{5}}{s_{5}^{2}} - \\frac{x_{4}}{s_{4}^{2}} - \\frac{x_{3}}{s_{3}^{2}} - \\frac{x_{2}}{s_{2}^{2}} - \\frac{x_{1}}{s_{1}^{2}}\\right) + \\theta_{2} \\left(- \\frac{x_{7}^{2}}{s_{7}^{2}} - \\frac{x_{6}^{2}}{s_{6}^{2}} - \\frac{x_{5}^{2}}{s_{5}^{2}} - \\frac{x_{4}^{2}}{s_{4}^{2}} - \\frac{x_{3}^{2}}{s_{3}^{2}} - \\frac{x_{2}^{2}}{s_{2}^{2}} - \\frac{x_{1}^{2}}{s_{1}^{2}}\\right) + \\frac{y_{7}}{s_{7}^{2}} + \\frac{y_{6}}{s_{6}^{2}} + \\frac{y_{5}}{s_{5}^{2}} + \\frac{y_{4}}{s_{4}^{2}} + \\frac{y_{3}}{s_{3}^{2}} + \\frac{y_{2}}{s_{2}^{2}} + \\frac{y_{1}}{s_{1}^{2}}$"
      ],
      "text/plain": [
       "<IPython.core.display.Latex object>"
      ]
     },
     "metadata": {},
     "output_type": "display_data"
    },
    {
     "data": {
      "text/latex": [
       "$\\theta_{0} \\left(- \\frac{x_{7}}{s_{7}^{2}} - \\frac{x_{6}}{s_{6}^{2}} - \\frac{x_{5}}{s_{5}^{2}} - \\frac{x_{4}}{s_{4}^{2}} - \\frac{x_{3}}{s_{3}^{2}} - \\frac{x_{2}}{s_{2}^{2}} - \\frac{x_{1}}{s_{1}^{2}}\\right) + \\theta_{1} \\left(- \\frac{x_{7}^{2}}{s_{7}^{2}} - \\frac{x_{6}^{2}}{s_{6}^{2}} - \\frac{x_{5}^{2}}{s_{5}^{2}} - \\frac{x_{4}^{2}}{s_{4}^{2}} - \\frac{x_{3}^{2}}{s_{3}^{2}} - \\frac{x_{2}^{2}}{s_{2}^{2}} - \\frac{x_{1}^{2}}{s_{1}^{2}}\\right) + \\theta_{2} \\left(- \\frac{x_{7}^{3}}{s_{7}^{2}} - \\frac{x_{6}^{3}}{s_{6}^{2}} - \\frac{x_{5}^{3}}{s_{5}^{2}} - \\frac{x_{4}^{3}}{s_{4}^{2}} - \\frac{x_{3}^{3}}{s_{3}^{2}} - \\frac{x_{2}^{3}}{s_{2}^{2}} - \\frac{x_{1}^{3}}{s_{1}^{2}}\\right) + \\frac{x_{7} y_{7}}{s_{7}^{2}} + \\frac{x_{6} y_{6}}{s_{6}^{2}} + \\frac{x_{5} y_{5}}{s_{5}^{2}} + \\frac{x_{4} y_{4}}{s_{4}^{2}} + \\frac{x_{3} y_{3}}{s_{3}^{2}} + \\frac{x_{2} y_{2}}{s_{2}^{2}} + \\frac{x_{1} y_{1}}{s_{1}^{2}}$"
      ],
      "text/plain": [
       "<IPython.core.display.Latex object>"
      ]
     },
     "metadata": {},
     "output_type": "display_data"
    },
    {
     "data": {
      "text/latex": [
       "$\\theta_{0} \\left(- \\frac{x_{7}^{2}}{s_{7}^{2}} - \\frac{x_{6}^{2}}{s_{6}^{2}} - \\frac{x_{5}^{2}}{s_{5}^{2}} - \\frac{x_{4}^{2}}{s_{4}^{2}} - \\frac{x_{3}^{2}}{s_{3}^{2}} - \\frac{x_{2}^{2}}{s_{2}^{2}} - \\frac{x_{1}^{2}}{s_{1}^{2}}\\right) + \\theta_{1} \\left(- \\frac{x_{7}^{3}}{s_{7}^{2}} - \\frac{x_{6}^{3}}{s_{6}^{2}} - \\frac{x_{5}^{3}}{s_{5}^{2}} - \\frac{x_{4}^{3}}{s_{4}^{2}} - \\frac{x_{3}^{3}}{s_{3}^{2}} - \\frac{x_{2}^{3}}{s_{2}^{2}} - \\frac{x_{1}^{3}}{s_{1}^{2}}\\right) + \\theta_{2} \\left(- \\frac{x_{7}^{4}}{s_{7}^{2}} - \\frac{x_{6}^{4}}{s_{6}^{2}} - \\frac{x_{5}^{4}}{s_{5}^{2}} - \\frac{x_{4}^{4}}{s_{4}^{2}} - \\frac{x_{3}^{4}}{s_{3}^{2}} - \\frac{x_{2}^{4}}{s_{2}^{2}} - \\frac{x_{1}^{4}}{s_{1}^{2}}\\right) + \\frac{x_{7}^{2} y_{7}}{s_{7}^{2}} + \\frac{x_{6}^{2} y_{6}}{s_{6}^{2}} + \\frac{x_{5}^{2} y_{5}}{s_{5}^{2}} + \\frac{x_{4}^{2} y_{4}}{s_{4}^{2}} + \\frac{x_{3}^{2} y_{3}}{s_{3}^{2}} + \\frac{x_{2}^{2} y_{2}}{s_{2}^{2}} + \\frac{x_{1}^{2} y_{1}}{s_{1}^{2}}$"
      ],
      "text/plain": [
       "<IPython.core.display.Latex object>"
      ]
     },
     "metadata": {},
     "output_type": "display_data"
    },
    {
     "data": {
      "text/latex": [
       "$- 16.0 \\theta_{0} - 2.125 \\theta_{2} + 69.5$"
      ],
      "text/plain": [
       "<IPython.core.display.Latex object>"
      ]
     },
     "metadata": {},
     "output_type": "display_data"
    },
    {
     "data": {
      "text/latex": [
       "$2.75 - 2.125 \\theta_{1}$"
      ],
      "text/plain": [
       "<IPython.core.display.Latex object>"
      ]
     },
     "metadata": {},
     "output_type": "display_data"
    },
    {
     "data": {
      "text/latex": [
       "$- 2.125 \\theta_{0} - 0.7890625 \\theta_{2} + 6.75$"
      ],
      "text/plain": [
       "<IPython.core.display.Latex object>"
      ]
     },
     "metadata": {},
     "output_type": "display_data"
    }
   ],
   "source": [
    "import numpy as np\n",
    "import sympy as sp\n",
    "import numpy as np\n",
    "from IPython.display import display, Latex\n",
    "\n",
    "x = np.array([[-0.75, -0.5, -0.25, 0., 0.25, 0.5, 0.75]]).T\n",
    "y = np.array([[1., 4.0, 4., 5.5, 4.5, 5.5, 3.]]).T\n",
    "y_err = np.array([[1., 1., 0.5, 0.5, 0.5, 1., 1.]]).T\n",
    "\n",
    "\n",
    "x_i = sp.symbols(r\"x_i\", real=True)\n",
    "x_1 = sp.symbols(r\"x_1\", real=True)\n",
    "x_2 = sp.symbols(r\"x_2\", real=True)\n",
    "x_3 = sp.symbols(r\"x_3\", real=True)\n",
    "x_4 = sp.symbols(r\"x_4\", real=True)\n",
    "x_5 = sp.symbols(r\"x_5\", real=True)\n",
    "x_6 = sp.symbols(r\"x_6\", real=True)\n",
    "x_7 = sp.symbols(r\"x_7\", real=True)\n",
    "x_vec = [x_1, x_2, x_3, x_4, x_5, x_6, x_7]\n",
    "\n",
    "y_i = sp.symbols(r\"y_i\", real=True)\n",
    "y_1 = sp.symbols(r\"y_1\", real=True)\n",
    "y_2 = sp.symbols(r\"y_2\", real=True)\n",
    "y_3 = sp.symbols(r\"y_3\", real=True)\n",
    "y_4 = sp.symbols(r\"y_4\", real=True)\n",
    "y_5 = sp.symbols(r\"y_5\", real=True)\n",
    "y_6 = sp.symbols(r\"y_6\", real=True)\n",
    "y_7 = sp.symbols(r\"y_7\", real=True)\n",
    "y_vec = [y_1, y_2, y_3, y_4, y_5, y_6, y_7]\n",
    "\n",
    "s_i = sp.symbols(r\"s_i\", real=True)\n",
    "s_1 = sp.symbols(r\"s_1\", real=True)\n",
    "s_2 = sp.symbols(r\"s_2\", real=True)\n",
    "s_3 = sp.symbols(r\"s_3\", real=True)\n",
    "s_4 = sp.symbols(r\"s_4\", real=True)\n",
    "s_5 = sp.symbols(r\"s_5\", real=True)\n",
    "s_6 = sp.symbols(r\"s_6\", real=True)\n",
    "s_7 = sp.symbols(r\"s_7\", real=True)\n",
    "s_vec = [s_1, s_2, s_3, s_4, s_5, s_6, s_7]\n",
    "\n",
    "t_0 = sp.symbols(r\"\\theta_0\", real=True)\n",
    "t_1 = sp.symbols(r\"\\theta_1\", real=True)\n",
    "t_2 = sp.symbols(r\"\\theta_2\", real=True)\n",
    "t_vec = [t_0, t_1, t_2]\n",
    "\n",
    "m_i = t_0 + t_1 * x_i + t_2 * x_i**2\n",
    "m_1 = t_0 + t_1 * x_1 + t_2 * x_1**2\n",
    "m_2 = t_0 + t_1 * x_2 + t_2 * x_2**2\n",
    "m_3 = t_0 + t_1 * x_3 + t_2 * x_3**2\n",
    "m_4 = t_0 + t_1 * x_4 + t_2 * x_4**2\n",
    "m_5 = t_0 + t_1 * x_5 + t_2 * x_5**2\n",
    "m_6 = t_0 + t_1 * x_6 + t_2 * x_6**2\n",
    "m_7 = t_0 + t_1 * x_7 + t_2 * x_7**2\n",
    "m_vec = [m_1, m_2, m_3, m_4, m_5, m_6, m_7]\n",
    "K_vec = []\n",
    "n = len(y_vec)\n",
    "for t_i in t_vec:\n",
    "    K = 0\n",
    "    for i in range(n):\n",
    "        K += sp.diff(m_vec[i],t_i) * (y_vec[i] - m_vec[i]) / s_vec[i]**2\n",
    "    K = K.expand()\n",
    "    for t_i in t_vec:\n",
    "        K = K.collect(t_i)\n",
    "    K_vec.append(K)\n",
    "    display(Latex(f\"${sp.latex(K)}$\"))\n",
    "for K in K_vec:\n",
    "    for i in range(n):\n",
    "        K = K.subs([(x_vec[i],x[i,0]), (y_vec[i],y[i,0]), (s_vec[i],y_err[i,0])]).evalf()\n",
    "    display(Latex(f\"${sp.latex(K)}$\"))"
   ]
  }
 ],
 "metadata": {
  "interpreter": {
   "hash": "ce0a1be092147c09833e7868385b9da738912d600a71e21e78a3ecad074dc518"
  },
  "kernelspec": {
   "display_name": "Python 3.9.7 64-bit",
   "name": "python3"
  },
  "language_info": {
   "codemirror_mode": {
    "name": "ipython",
    "version": 3
   },
   "file_extension": ".py",
   "mimetype": "text/x-python",
   "name": "python",
   "nbconvert_exporter": "python",
   "pygments_lexer": "ipython3",
   "version": "3.9.7"
  }
 },
 "nbformat": 4,
 "nbformat_minor": 4
}
