{
 "cells": [
  {
   "cell_type": "code",
   "execution_count": 12,
   "metadata": {},
   "outputs": [
    {
     "name": "stdout",
     "output_type": "stream",
     "text": [
      "Teil 2\n",
      "\n",
      "[[1.   0.31]\n",
      " [2.   0.61]\n",
      " [3.   0.91]\n",
      " [4.   1.21]\n",
      " [5.   1.51]\n",
      " [6.   1.8 ]]\n",
      "\n",
      "[[  1  90]\n",
      " [  2 -90]\n",
      " [  3   0]]\n"
     ]
    }
   ],
   "source": [
    "import numpy as np\n",
    "\n",
    "print('Teil 2')\n",
    "print()\n",
    "\n",
    "#Verhätnis externe Spannung, Verstärkerspannung\n",
    "m=np.array([[1 ,0.31],[2 ,0.61],[3 ,0.91],[4 ,1.21],[5 ,1.51],[6 ,1.80]])\n",
    "print(m)\n",
    "print()\n",
    "#verstärkung vorraussichtlich linear, eingangsspannung nicht mehr als 6V\n",
    "\n",
    "#Determine  the  directions  of  the  optical  axes  of  the  Pockels  cell  \n",
    "n=np.array([[1,90],[2,-90],[3,0]])\n",
    "print(n)"
   ]
  },
  {
   "cell_type": "markdown",
   "metadata": {},
   "source": [
    "Teil 1\n",
    "\n",
    "1. Finde Brewster-Winkel bei Reflexion/Brechung an Glasscheibe<br>\n",
    "<p>-mithilfe von Lambda/2-Platte polarissationsebene drehen, damit Lichtstrahl parallel zur Glasscheibe polarisiert ist<br>\n",
    "-wir beobachten ein Minimum des reflektierten Lichts beim Brewster-Winkel<br>\n",
    "-reflektiertes Licht ist nun senkrecht zur Einfallsebene polarisiert<br>\n",
    "-entferne Lambda/2-Platte</p><br>\n",
    "\n",
    "2. Reflexion des senkrecht polar. Lichtstrahls <br>\n",
    "<p>-zweites Glas so platzieren, dass zweite Einfallsebene senkrecht zur ersten steht<br>\n",
    "Beobachtung: 4 im quadrat angeordnete Laserpunkte sichtbar bis Brewster-Winkel, wo der reflektierte Strahl wieder verschwindet<br> \n",
    "-Reflexion am Glasboden der 1. Platte verursacht zweiten Lichtstrahl, reflexion am Glasboden der 2. Platte verursacht zwei weitere</p><br>\n",
    "\n",
    "\n",
    "3. Kalibriereung der Polarisatoren<br>\n",
    "<p>-so einstellen, dass reflektiertes Licht komplett absorbiert wird<br>\n",
    "-PBS: man sieht, dass senkrecht pol. Licht abgelenkt, parallel pol. Licht transmitiert wird</p><br>\n",
    "\n",
    "4. beam splitter<br>\n",
    "<p>-mithilfe einer Beschichtung, werden die beiden Polarisationsebenene aufgetrennt</p><br>\n",
    "\n",
    "5. wave-plate Ausrichtung<br>\n",
    "<p>-Lambda/2-Platte soll Lichtstrahl um 90° drehen<br>\n",
    "-bestimme Achse des Kristalls, ges. Winkel liegen um 45° Versetzt zwischen den Achsen<br>\n",
    "    -Beobachtung: 2 Minimas bei pol. entlang der S-Achse, da nicht abgelenkt; 2 Minimas, wenn Licht entlang F-Achse einfällt, da Licht um 180° gedreht wird<br>\n",
    "    -wir können also die Achsen nicht voneinander unterscheiden\n",
    "</p><br>\n",
    "\n",
    "6. zirkular pol. Licht mit Lambda/2-Platte\n",
    "<p>-beobachten die minimale Intensität auf Schirm und bestimmen so analog zu (5) die Achsen der wave-plates<br>\n",
    "    -wir erreichen die zirkulare pol. indem wir jeweils 45° dazuaddieren, da der einfallende Lichtanteil entlang der Achsen gleich verteilt ist und wir somit zirkulare statt elliptische pol. zur Folge hat</p><br>\n",
    "    \n",
    "7. Lambda/4-Platte\n",
    "<p>a. Erwartung: Licht ist nach durchlauf beider Platten... parallel pol. (bei einem Einfallswinkel von 45° analog zu c.)<br>\n",
    "    Beobachtung: parallel pol. Licht<br><br/>\n",
    "    b. Erwartung:... senkrecht pol. (bei jedem Einfalsswinkel) da danach keine Phasenverschiebung mehr vorliegt<br>\n",
    "    Beobachtung: senkrecht pol. Licht<br><br/>\n",
    "    c. Erwartung: siehe a.<br>\n",
    "    Beobachtung: paralleles Licht<br><br/>\n",
    "    d. Erwartung:... senkrecht pol. Licht<br>\n",
    "    Beobachtung: senkrecht pol. Licht</p><br>\n",
    "    \n",
    "8. Spiegel in Winkel > 90°\n",
    "<p>-weiterhin senkrecht pol. (prüfe mit Polarisator)<br>\n",
    "    -wir erhalten paralleles Licht mit der Lambda/4-Platte, ist auch nach Reflexion am Spiegel parallel pol.<br>\n",
    "    -Phasensprung von Pi ändert Polarisationsrichtung nicht</p><br>\n",
    "    \n",
    "9. Licht durch zwei Lambda/4-Plättchen (i), mit Spiegel zwischen wave-plates (ii)\n",
    "<p>i: parallel pol. Licht analog zu (7a)<br>\n",
    "    ii: senkrecht pol. Licht<br>\n",
    "    -Spiegel führt Phasenshift am senkrecht einfallenden Lichtteil durch<br>\n",
    "    -beide Polarisationsebenen erhalten Phasensprung von Pi</p><br>\n",
    "    \n",
    "10. Licht durch Lambda/4-Platte, reflektiert am senkrechten Spiegel und erneut durch gleiche Platte\n",
    "<p>-senkrecht pol. Licht nach Durchlauf parallel pol. (unabhängig von Orientierung zu S und F-Achse)</p><br>\n",
    "\n",
    "11. analoger Versuch mit Lambda/2-Platte\n",
    "<p>- nach komplettem Durchlauf haben beide Polarisationsachsen eine Phase von Gamma=2*Pi mit Phasendifferenz Delta(Gamma)=0 gesammt<br>\n",
    "    -erhalten wieder senkrecht pol. Licht</p><br>\n",
    "    \n",
    "12. optische Diode\n",
    "<p>Blick in die Lampe: in eine Richtung orange Farbe, in die andere Grüne Farbe<br>\n",
    "    -hypothese: Laser wird in eine Richtung absorbiert<br>\n",
    "    Faraday-Effekt: Optisch inaktives Material wird durch B-Feld optisch aktiv. Dreht die polarisationsrichtung des Lichts abhängig vom Winkel zwischen k und B (entgegengesetzt einfallendes Licht genau in die andere Richtung abgelenkt), Prozess ist stark von er Wellenlänge abhängig.<br>\n",
    "    -Filter auf rotes Licht eingestellt, somit in Sperrichtung grünes Licht sichtbar</p>\n",
    "    \n",
    "\n",
    "\n",
    "\n",
    "\n"
   ]
  },
  {
   "cell_type": "code",
   "execution_count": null,
   "metadata": {},
   "outputs": [],
   "source": [
    "\n"
   ]
  }
 ],
 "metadata": {
  "kernelspec": {
   "display_name": "Python 3",
   "language": "python",
   "name": "python3"
  },
  "language_info": {
   "codemirror_mode": {
    "name": "ipython",
    "version": 3
   },
   "file_extension": ".py",
   "mimetype": "text/x-python",
   "name": "python",
   "nbconvert_exporter": "python",
   "pygments_lexer": "ipython3",
   "version": "3.7.3"
  }
 },
 "nbformat": 4,
 "nbformat_minor": 2
}
